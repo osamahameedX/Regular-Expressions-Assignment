{
 "cells": [
  {
   "cell_type": "markdown",
   "metadata": {},
   "source": [
    "# Regular-Expressions-Assignment"
   ]
  },
  {
   "cell_type": "markdown",
   "metadata": {},
   "source": [
    "## Import Libaries"
   ]
  },
  {
   "cell_type": "code",
   "execution_count": 1,
   "metadata": {},
   "outputs": [],
   "source": [
    "import re\n",
    "import os\n",
    "import unittest"
   ]
  },
  {
   "cell_type": "markdown",
   "metadata": {},
   "source": [
    "## Functions"
   ]
  },
  {
   "cell_type": "code",
   "execution_count": 2,
   "metadata": {
    "scrolled": true
   },
   "outputs": [],
   "source": [
    "def read_file(filename):\n",
    "    \"\"\" Return a list of the lines in the file with the passed filename \"\"\"\n",
    "   \n",
    "    # Open the file and get the file object\n",
    "    source_dir = os.path.dirname(\"C:\\\\Users\\\\Muhammad Usama\\\\Fiverr Projects\\\\p4\\\\\") #<-- directory name\n",
    "    full_path = os.path.join(source_dir, filename)\n",
    "    try:\n",
    "        file=open(full_path,'r',encoding='utf-8')\n",
    "#       # Read the lines from the file object into a list\n",
    "        #lines = file.readlines()\n",
    "        lines = file.read()\n",
    "        lines = \" \".join(lines.split())\n",
    "    \n",
    "    \n",
    "#         # return the list of lines\n",
    "        file.close()\n",
    "    except IOError:\n",
    "        print(\"File not found or path is incorrect\")  \n",
    "    \n",
    "    return lines\n",
    "\n",
    "\n",
    "def count_char(string_list, char):\n",
    "    pattern = r'''(?ix)           # ignore case, verbose mode\n",
    "              \\b{letter}      # start with letter\n",
    "              \\w*             # zero or more additional word characters\n",
    "              [^{letter}\\W]\\b # ends with a word character that isn't letter\n",
    "              |               #    OR\n",
    "              \\b # does not start with a non-word character or letter\n",
    "              \\w*             # zero or more additional word characters\n",
    "              {letter}\\b      # ends with letter\n",
    "              '''.format(letter=char)\n",
    "    return len(re.findall(pattern,string_list))\n",
    "\n",
    "def find_dates(string_list):\n",
    "    regex = re.findall(r'(?:\\d{1,2}[- \\/.])(?:\\d{1,2}[- \\/.])(?:\\d{2,4})', str(string_list))\n",
    "    date = []\n",
    "    for s in regex:\n",
    "        date.append(s)\n",
    "    return date\n",
    "\n",
    "def find_time(string_list):\n",
    "    time = re.findall(r'\\s(\\d{2}\\:\\d{2}\\s?(?:am|pm))', string_list)\n",
    "    return time\n",
    "\n",
    "def find_urls(string_list):\n",
    "    \"\"\" Return a list of valid urls in the list of strings \"\"\"\n",
    "    \n",
    "    # loop through each line of the string list\n",
    "    \n",
    "    # find all the domains that match the regular expression in each line\n",
    "        \n",
    "    # loop through the found domains\n",
    "    urls = re.findall(r'(http[]?://|http[s]?://(?:[a-zA-Z]|[0-9]|[$-_@.&+]|[!*\\(\\),]|(?:%[0-9a-fA-F][0-9a-fA-F]))+)', string_list)\n",
    "            \n",
    "    #return the list of domains\n",
    "    return urls"
   ]
  },
  {
   "cell_type": "markdown",
   "metadata": {},
   "source": [
    "### Unit Testing of Functions"
   ]
  },
  {
   "cell_type": "code",
   "execution_count": 3,
   "metadata": {},
   "outputs": [],
   "source": [
    "# Implement your own tests.    \n",
    "class TestAllMethods(unittest.TestCase):\n",
    "\n",
    "    def test_find_times(self):\n",
    "        # read the lines from the file into a list of strings\n",
    "        string_list = read_file('alice_in_wonderland.txt')\n",
    "        time_list = find_time(string_list)\n",
    "        self.assertEqual(len(time_list),5)\n",
    "\n",
    "    def test_find_urls(self):\n",
    "        # read the lines from the file into a list of strings\n",
    "        string_list = read_file('alice_in_wonderland.txt')\n",
    "        domain_list = find_urls(string_list)\n",
    "        print(domain_list)\n",
    "        self.assertEqual(len(domain_list),5)\n",
    "\n",
    "    def test_find_dates(self):\n",
    "        string_list = read_file('alice_in_wonderland.txt')\n",
    "        dates_list = find_dates(string_list)\n",
    "        self.assertEqual(len(dates_list),7)\n",
    "        \n",
    "\n",
    "       \n",
    "    def test_count_char(self):\n",
    "#         string_list = read_file('alice_in_wonderland.txt')\n",
    "#         char_list = count_char(string_list)\n",
    "#         self.assertEqual(len(char_list),2)\n",
    "        pass"
   ]
  },
  {
   "cell_type": "markdown",
   "metadata": {},
   "source": [
    "## Main Class"
   ]
  },
  {
   "cell_type": "code",
   "execution_count": 4,
   "metadata": {},
   "outputs": [
    {
     "name": "stderr",
     "output_type": "stream",
     "text": [
      "C:\\Users\\Muhammad Usama\\AppData\\Roaming\\jupyter\\runtime\\kernel-444e1c46-b29b-48b8-9d37-b22fdf310ad6 (unittest.loader._FailedTest) ... ERROR\n",
      "\n",
      "======================================================================\n",
      "ERROR: C:\\Users\\Muhammad Usama\\AppData\\Roaming\\jupyter\\runtime\\kernel-444e1c46-b29b-48b8-9d37-b22fdf310ad6 (unittest.loader._FailedTest)\n",
      "----------------------------------------------------------------------\n",
      "AttributeError: module '__main__' has no attribute 'C:\\Users\\Muhammad Usama\\AppData\\Roaming\\jupyter\\runtime\\kernel-444e1c46-b29b-48b8-9d37-b22fdf310ad6'\n",
      "\n",
      "----------------------------------------------------------------------\n",
      "Ran 1 test in 0.003s\n",
      "\n",
      "FAILED (errors=1)\n"
     ]
    },
    {
     "ename": "SystemExit",
     "evalue": "True",
     "output_type": "error",
     "traceback": [
      "An exception has occurred, use %tb to see the full traceback.\n",
      "\u001b[1;31mSystemExit\u001b[0m\u001b[1;31m:\u001b[0m True\n"
     ]
    },
    {
     "name": "stderr",
     "output_type": "stream",
     "text": [
      "C:\\ProgramData\\Anaconda3\\lib\\site-packages\\IPython\\core\\interactiveshell.py:3275: UserWarning: To exit: use 'exit', 'quit', or Ctrl-D.\n",
      "  warn(\"To exit: use 'exit', 'quit', or Ctrl-D.\", stacklevel=1)\n"
     ]
    }
   ],
   "source": [
    "def main():\n",
    "# Use main to test your function. \n",
    "    # Run unit tests, but feel free to run any additional functions you need\n",
    "    unittest.main(verbosity = 2)\n",
    "\n",
    "if __name__ == \"__main__\":\n",
    "    main()\n",
    "    "
   ]
  },
  {
   "cell_type": "code",
   "execution_count": 5,
   "metadata": {},
   "outputs": [],
   "source": [
    "def main():\n",
    "    global date, links, time, char\n",
    "    lines = read_file('c.txt')#print(lines)\n",
    "    date = find_dates(lines)\n",
    "    links = find_urls(lines)\n",
    "    time = find_time(lines)\n",
    "    char = count_char(lines, \"A\")\n",
    "\n",
    "\n",
    "if __name__ == \"__main__\":\n",
    "    main()"
   ]
  },
  {
   "cell_type": "code",
   "execution_count": 6,
   "metadata": {},
   "outputs": [
    {
     "name": "stdout",
     "output_type": "stream",
     "text": [
      "['12:25 am', '12:00 pm', '04:25 pm', '11:11 pm', '10:05 am']\n"
     ]
    }
   ],
   "source": [
    "print(time)"
   ]
  },
  {
   "cell_type": "code",
   "execution_count": 10,
   "metadata": {
    "scrolled": true
   },
   "outputs": [
    {
     "name": "stdout",
     "output_type": "stream",
     "text": [
      "['https://www.goodreads.com/work/quotes/2933712-alice-in-wonderland', 'https://www.youtube.com/watch?v=rPK67tnsfZc', 'https://www.youtube.com/watch?v=msvOUUgv6m8', 'https://www.pythex.com', 'http://www.gutenberg.org/1/11/']\n"
     ]
    }
   ],
   "source": [
    "print(links)"
   ]
  },
  {
   "cell_type": "code",
   "execution_count": 8,
   "metadata": {
    "scrolled": false
   },
   "outputs": [
    {
     "name": "stdout",
     "output_type": "stream",
     "text": [
      "['06/08/2020', '06-08-20', '06-05-2010', '26/07/51', '04-05-65', '26.11.65', '26.11.65']\n"
     ]
    }
   ],
   "source": [
    "print(date)"
   ]
  },
  {
   "cell_type": "code",
   "execution_count": 9,
   "metadata": {},
   "outputs": [
    {
     "name": "stdout",
     "output_type": "stream",
     "text": [
      "3850\n"
     ]
    }
   ],
   "source": [
    "print(char)"
   ]
  },
  {
   "cell_type": "code",
   "execution_count": null,
   "metadata": {},
   "outputs": [],
   "source": []
  }
 ],
 "metadata": {
  "kernelspec": {
   "display_name": "Python 3",
   "language": "python",
   "name": "python3"
  },
  "language_info": {
   "codemirror_mode": {
    "name": "ipython",
    "version": 3
   },
   "file_extension": ".py",
   "mimetype": "text/x-python",
   "name": "python",
   "nbconvert_exporter": "python",
   "pygments_lexer": "ipython3",
   "version": "3.7.1"
  }
 },
 "nbformat": 4,
 "nbformat_minor": 2
}
